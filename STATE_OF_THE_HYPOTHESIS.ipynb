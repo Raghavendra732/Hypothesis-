{
  "nbformat": 4,
  "nbformat_minor": 0,
  "metadata": {
    "colab": {
      "provenance": []
    },
    "kernelspec": {
      "name": "python3",
      "display_name": "Python 3"
    },
    "language_info": {
      "name": "python"
    }
  },
  "cells": [
    {
      "cell_type": "markdown",
      "source": [
        "# STATE OF HYPOTHESIS:\n",
        "\n",
        "Null hypothesis (\n",
        "H\n",
        "0\n",
        "H\n",
        "0\n",
        "​\n",
        " ): The observed weekly operating cost aligns with the theoretical model (\n",
        "μ\n",
        "=\n",
        "μ\n",
        "0\n",
        "μ=μ\n",
        "0\n",
        "​\n",
        " ).\n",
        "Alternative hypothesis (\n",
        "H\n",
        "1\n",
        "H\n",
        "1\n",
        "​\n",
        " ): The observed weekly operating cost is higher than predicted by the theoretical model (\n",
        "μ\n",
        ">\n",
        "μ\n",
        "0\n",
        "μ>μ\n",
        "0\n",
        "​\n",
        " ).axa,"
      ],
      "metadata": {
        "id": "4pKA0YJvKecR"
      }
    },
    {
      "cell_type": "code",
      "execution_count": 11,
      "metadata": {
        "id": "dgMS_3TlKc6d"
      },
      "outputs": [],
      "source": [
        "# Hypothesis Testing Implementation\n",
        "import math\n",
        "from scipy.stats import norm"
      ]
    },
    {
      "cell_type": "code",
      "source": [
        "# Given data\n",
        "sample_mean = 3050  # Sample mean weekly cost in Rs\n",
        "n = 25  # Sample size\n",
        "sigma_x = 5 * 25  # Standard deviation for weekly cost\n",
        "alpha = 0.05  # Significance level\n"
      ],
      "metadata": {
        "id": "LRFlW_I5LKD0"
      },
      "execution_count": 12,
      "outputs": []
    },
    {
      "cell_type": "code",
      "source": [
        "def calculate_test_statistic():\n",
        "    # Theoretical weekly cost (mu_0)\n",
        "    X = 600  # Mean number of units produced per week\n",
        "    theoretical_mean = 1000 + 5 * X\n",
        "    # Test statistic formula\n",
        "    standard_error = sigma_x / math.sqrt(n)\n",
        "    t = (sample_mean - theoretical_mean) / standard_error\n",
        "    return t, theoretical_mean, standard_error\n"
      ],
      "metadata": {
        "id": "ZeKmuRS7LWII"
      },
      "execution_count": 13,
      "outputs": []
    },
    {
      "cell_type": "code",
      "source": [
        "def determine_critical_value():\n",
        "    # Critical value for a one-tailed test\n",
        "    z_critical = norm.ppf(1 - alpha)  # Z-critical value\n",
        "    return z_critical\n",
        "\n",
        "def hypothesis_testing():\n",
        "    t_statistic, theoretical_mean, standard_error = calculate_test_statistic()\n",
        "    z_critical = determine_critical_value()\n",
        "\n",
        "    #decision\n",
        "\n",
        "    if t_statistic > z_critical:\n",
        "        decision = \"Reject the null hypothesis: Weekly operating costs are significantly higher than predicted.\"\n",
        "    else:\n",
        "        decision = \"Fail to reject the null hypothesis: Insufficient evidence to suggest higher weekly operating costs.\"\n",
        "\n",
        "    # Output\n",
        "    results = {\n",
        "        \"Theoretical Mean (Rs)\": theoretical_mean,\n",
        "        \"Sample Mean (Rs)\": sample_mean,\n",
        "        \"Standard Error\": standard_error,\n",
        "        \"Test Statistic (t)\": t_statistic,\n",
        "        \"Critical Value (Zc)\": z_critical,\n",
        "        \"Decision\": decision\n",
        "    }\n",
        "    return results\n",
        "\n",
        "# Run the hypothesis testing\n",
        "# Run the hypothesis testing\n",
        "results = hypothesis_testing()\n",
        "for key, value in results.items():\n",
        "    print(f\"{key}: {value}\")\n"
      ],
      "metadata": {
        "colab": {
          "base_uri": "https://localhost:8080/"
        },
        "id": "Ln9qESXkLbx6",
        "outputId": "2dccafe9-7abb-4e09-a60a-2034d4dc49d4"
      },
      "execution_count": 14,
      "outputs": [
        {
          "output_type": "stream",
          "name": "stdout",
          "text": [
            "Theoretical Mean (Rs): 4000\n",
            "Sample Mean (Rs): 3050\n",
            "Standard Error: 25.0\n",
            "Test Statistic (t): -38.0\n",
            "Critical Value (Zc): 1.6448536269514722\n",
            "Decision: Fail to reject the null hypothesis: Insufficient evidence to suggest higher weekly operating costs.\n"
          ]
        }
      ]
    },
    {
      "cell_type": "code",
      "source": [],
      "metadata": {
        "id": "9QsFlSx8MF9t"
      },
      "execution_count": 14,
      "outputs": []
    }
  ]
}